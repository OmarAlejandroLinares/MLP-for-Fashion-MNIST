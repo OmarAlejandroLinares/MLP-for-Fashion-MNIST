{
 "cells": [
  {
   "cell_type": "markdown",
   "metadata": {
    "id": "BA0FvFe966r9"
   },
   "source": [
    "# Tarea 1_ Red neuronal Perceptrón multicapa TF2\n",
    "\n",
    "Este trabajo es un clasificador de prendas de ropa en 10 clases.\n",
    "Los resultados obtenidos fueron de:\n",
    "* Exactitud en el entrenamiento: 76.92654418945312%\n",
    "* Pérdida en el entrenamiento: 31.93520736694336%\n",
    "* Exactitud en la prueba: 73.13999938964844% \n",
    "* Pérdida en la prueba: 37.12417984008789%"
   ]
  },
  {
   "cell_type": "code",
   "execution_count": 1,
   "metadata": {
    "id": "nP5zZjkD7sWw"
   },
   "outputs": [],
   "source": [
    "import tensorflow as tf\n",
    "import numpy as np\n",
    "import matplotlib.pyplot as plt\n",
    "%matplotlib inline"
   ]
  },
  {
   "cell_type": "markdown",
   "metadata": {
    "id": "aoy3nHOH3aDh"
   },
   "source": [
    "Esta tarea usa el set de datos de Fashion MNIST de más de 70,000 imágenes en 10 categorias. Las imágenes muestran artículos individuales de ropa a una resolucion de 28 por 28 pixeles."
   ]
  },
  {
   "cell_type": "code",
   "execution_count": 2,
   "metadata": {
    "colab": {
     "base_uri": "https://localhost:8080/"
    },
    "id": "cl5FegN27wzO",
    "outputId": "de8054cf-63bd-4023-a87e-0509f77514b8"
   },
   "outputs": [
    {
     "name": "stdout",
     "output_type": "stream",
     "text": [
      "Downloading data from https://storage.googleapis.com/tensorflow/tf-keras-datasets/train-labels-idx1-ubyte.gz\n",
      "32768/29515 [=================================] - 0s 0us/step\n",
      "40960/29515 [=========================================] - 0s 0us/step\n",
      "Downloading data from https://storage.googleapis.com/tensorflow/tf-keras-datasets/train-images-idx3-ubyte.gz\n",
      "26427392/26421880 [==============================] - 0s 0us/step\n",
      "26435584/26421880 [==============================] - 0s 0us/step\n",
      "Downloading data from https://storage.googleapis.com/tensorflow/tf-keras-datasets/t10k-labels-idx1-ubyte.gz\n",
      "16384/5148 [===============================================================================================] - 0s 0us/step\n",
      "Downloading data from https://storage.googleapis.com/tensorflow/tf-keras-datasets/t10k-images-idx3-ubyte.gz\n",
      "4423680/4422102 [==============================] - 0s 0us/step\n",
      "4431872/4422102 [==============================] - 0s 0us/step\n"
     ]
    }
   ],
   "source": [
    "from tensorflow.keras.datasets.fashion_mnist import load_data\n",
    "fashion_mnist = load_data()"
   ]
  },
  {
   "cell_type": "markdown",
   "metadata": {
    "id": "wq-Bj_Kar14P"
   },
   "source": [
    "# Separando el conjunto de datos en entrenamiento y prueba "
   ]
  },
  {
   "cell_type": "markdown",
   "metadata": {
    "id": "iVqdN0_44TW2"
   },
   "source": [
    "Primero se separan los datos en conjuntos de entrenamiento y prueba con sus respectivas etiquetas."
   ]
  },
  {
   "cell_type": "code",
   "execution_count": 3,
   "metadata": {
    "id": "rMlq0XNTwA6t"
   },
   "outputs": [],
   "source": [
    "(x_train, y_train), (x_test, y_test)= fashion_mnist"
   ]
  },
  {
   "cell_type": "markdown",
   "metadata": {
    "id": "9nr7LYdO4c9G"
   },
   "source": [
    "Observamos que son 60k imágenes para el entrenamiento."
   ]
  },
  {
   "cell_type": "code",
   "execution_count": 4,
   "metadata": {
    "colab": {
     "base_uri": "https://localhost:8080/"
    },
    "id": "dCFFRiSpwUdg",
    "outputId": "e40fd307-2ef5-460a-e811-bf6919fea578"
   },
   "outputs": [
    {
     "data": {
      "text/plain": [
       "(60000, 28, 28)"
      ]
     },
     "execution_count": 4,
     "metadata": {},
     "output_type": "execute_result"
    }
   ],
   "source": [
    "x_train.shape"
   ]
  },
  {
   "cell_type": "markdown",
   "metadata": {
    "id": "1HTJRjUO4hUd"
   },
   "source": [
    "Se grafica una de estas imágenes para corroborar que se trate de un artículo de ropa."
   ]
  },
  {
   "cell_type": "code",
   "execution_count": 5,
   "metadata": {
    "id": "Fpr0-pBNwWv_"
   },
   "outputs": [],
   "source": [
    "imagendemo=x_train[0,:,:]"
   ]
  },
  {
   "cell_type": "code",
   "execution_count": 6,
   "metadata": {
    "colab": {
     "base_uri": "https://localhost:8080/",
     "height": 282
    },
    "id": "OkOVIgvnr14g",
    "outputId": "258d11fa-b8bb-4c0e-afc2-2ad21c01cb84"
   },
   "outputs": [
    {
     "data": {
      "text/plain": [
       "<matplotlib.image.AxesImage at 0x7f80774fe6d0>"
      ]
     },
     "execution_count": 6,
     "metadata": {},
     "output_type": "execute_result"
    },
    {
     "data": {
      "image/png": "[encoded data removed]",
      "text/plain": [
       "<Figure size 432x288 with 1 Axes>"
      ]
     },
     "metadata": {
      "needs_background": "light"
     },
     "output_type": "display_data"
    }
   ],
   "source": [
    "plt.imshow(imagendemo,cmap='gray')"
   ]
  },
  {
   "cell_type": "markdown",
   "metadata": {
    "id": "BFqV5anN4m2U"
   },
   "source": [
    "Posteriormente se estandarizan los valores de las imágenes a un rango de 0 a 1."
   ]
  },
  {
   "cell_type": "markdown",
   "metadata": {
    "id": "pMv3JSGt67Jg"
   },
   "source": [
    "Nota 1: Estandarizando las imágenes, mejora el porcentaje de accuracy del 0.8485 al 0.9395 con 15 épocas."
   ]
  },
  {
   "cell_type": "code",
   "execution_count": 7,
   "metadata": {
    "id": "T7_TM94AyQKl"
   },
   "outputs": [],
   "source": [
    "x_train = x_train / 255.0\n",
    "x_test = x_test / 255.0"
   ]
  },
  {
   "cell_type": "markdown",
   "metadata": {
    "id": "JwRo-mx_r14l"
   },
   "source": [
    "Se presentan las clases correspondientes y se almacenan en el diccionario label_dict{ }."
   ]
  },
  {
   "cell_type": "code",
   "execution_count": 8,
   "metadata": {
    "id": "ypNFROm8r14m"
   },
   "outputs": [],
   "source": [
    "label_dict = {\n",
    " 0: \"T-shirt/top\",\n",
    " 1: \"Trouser\",\n",
    " 2: \"Pullover\",\n",
    " 3: \"Dress\",\n",
    " 4: \"Coat\",\n",
    " 5: \"Sandal\",\n",
    " 6: \"Shirt\",\n",
    " 7: \"Sneaker\",\n",
    " 8: \"Bag\",\n",
    " 9: \"Ankle boot\"\n",
    "}"
   ]
  },
  {
   "cell_type": "code",
   "execution_count": 9,
   "metadata": {
    "colab": {
     "base_uri": "https://localhost:8080/",
     "height": 35
    },
    "id": "edjTF1COr14q",
    "outputId": "8ba5bd9c-ee15-4319-8e69-8838c2f72299"
   },
   "outputs": [
    {
     "data": {
      "application/vnd.google.colaboratory.intrinsic+json": {
       "type": "string"
      },
      "text/plain": [
       "'Ankle boot'"
      ]
     },
     "execution_count": 9,
     "metadata": {},
     "output_type": "execute_result"
    }
   ],
   "source": [
    "label_dict[y_train[0]]"
   ]
  },
  {
   "cell_type": "markdown",
   "metadata": {
    "id": "Xt5gmRlGr14w"
   },
   "source": [
    "# ¡¡¡Suerte :D !!!\n",
    "\n",
    "Dankeschön!"
   ]
  },
  {
   "cell_type": "markdown",
   "metadata": {
    "id": "mbF-eq3LgRXo"
   },
   "source": [
    "## Ajustando los datos"
   ]
  },
  {
   "cell_type": "markdown",
   "metadata": {
    "id": "OaGd-kYu547R"
   },
   "source": [
    "Se convierten las entradas bidimensionales a unidimensionales por medio del reshape, esto se podría realizar con una capa tipo \"Flatten\" pero desconocía si al agregar la capa ya no sería contemplada como una Red Vanilla jeje."
   ]
  },
  {
   "cell_type": "code",
   "execution_count": 10,
   "metadata": {
    "colab": {
     "base_uri": "https://localhost:8080/"
    },
    "id": "D0BPN7W45vJJ",
    "outputId": "02a35ccb-e68b-440f-8d15-19b696eee035"
   },
   "outputs": [
    {
     "data": {
      "text/plain": [
       "(60000, 784)"
      ]
     },
     "execution_count": 10,
     "metadata": {},
     "output_type": "execute_result"
    }
   ],
   "source": [
    "x_train=x_train.reshape(-1,28*28).astype('float32')\n",
    "x_test=x_test.reshape(-1,28*28).astype('float32')\n",
    "x_train.shape"
   ]
  },
  {
   "cell_type": "markdown",
   "metadata": {
    "id": "S6MrC1nVITxP"
   },
   "source": [
    "El convertir la salida de etiquetas a un vector one_hot cambia la exactitud de 89.11% a 89.16% con 5 épocas, por lo que se hace el cambio."
   ]
  },
  {
   "cell_type": "code",
   "execution_count": 29,
   "metadata": {
    "colab": {
     "base_uri": "https://localhost:8080/"
    },
    "id": "uu1T9EacIQMP",
    "outputId": "0bb7f7cb-7c61-4377-8d9c-9f4e761f7246"
   },
   "outputs": [
    {
     "data": {
      "text/plain": [
       "(60000, 10)"
      ]
     },
     "execution_count": 29,
     "metadata": {},
     "output_type": "execute_result"
    }
   ],
   "source": [
    "# Convertir el array de salidas a una codificación one_ hot\n",
    "from sklearn.preprocessing import LabelEncoder\n",
    "from sklearn.preprocessing import OneHotEncoder\n",
    "onehot_encoder = OneHotEncoder(sparse=False)\n",
    "# Cambiamos el y_train a una forma (numero de datos, etiqueta categorica)\n",
    "y_train = y_train.reshape(len(y_train), 1)\n",
    "# Y cambiamos a un vector one-hot\n",
    "y_train_onehot = onehot_encoder.fit_transform(y_train)\n",
    "\n",
    "# Cambiamos el y_test a una forma (numero de datos, etiqueta categorica)\n",
    "y_test = y_test.reshape(len(y_test), 1)\n",
    "# Y cambiamos a un vector one-hot\n",
    "y_test_onehot = onehot_encoder.fit_transform(y_test)\n",
    "\n",
    "y_train_onehot.shape"
   ]
  },
  {
   "cell_type": "markdown",
   "metadata": {
    "id": "Ht4m_YUE3xC_"
   },
   "source": [
    "## Declarando la arquitectura con Keras"
   ]
  },
  {
   "cell_type": "markdown",
   "metadata": {
    "id": "UJ_vPKlM38BU"
   },
   "source": [
    "TF2 se maneja bajo la programación orientada a objetos (POO)."
   ]
  },
  {
   "cell_type": "markdown",
   "metadata": {
    "id": "qnJeZIf8GLQC"
   },
   "source": [
    "Ahora sí, la arquitectura de esta red son dos primeras capas densas de 128 neuronas y función de activación relu y una capa densa de salida de 10 neuronas puesto que queremos que clasifique entre 10 categorías distintas."
   ]
  },
  {
   "cell_type": "code",
   "execution_count": 52,
   "metadata": {
    "id": "tjC5VarP4Dd5"
   },
   "outputs": [],
   "source": [
    "class DNN_model(object):\n",
    "  # Inicializa el objeto con todo aquello dentro del def __init__\n",
    "  def __init__(self,\n",
    "               n_nodes_hl1=128,\n",
    "               n_nodes_hl2=128,\n",
    "               n_classes=10):\n",
    "    #Cada capa de la red, sus pesos y bias, se vuelven un atributo del objeto\n",
    "    \n",
    "    #Todos los parametros son tf.Variable.\n",
    "    #Se nombra a cada parte de la capa n como \"hlnweigths\", \"hlnbias\".\n",
    "    #El tipo de dato más adecuado en TF2 es float32\n",
    "\n",
    "    #Primera capa\n",
    "    self.h1LW = tf.Variable(np.random.rand(784, n_nodes_hl1),name=\"hl1weigths\",dtype=\"float32\")\n",
    "    self.h1LB = tf.Variable(np.random.rand(n_nodes_hl1),name=\"hl1bias\",dtype=\"float32\")\n",
    "    #Segunda capa\n",
    "    self.h2LW = tf.Variable(np.random.rand(n_nodes_hl1, n_nodes_hl2),name=\"hl2weigths\",dtype=\"float32\")\n",
    "    self.h2LB = tf.Variable(np.random.rand(n_nodes_hl2),name=\"hl2bias\",dtype=\"float32\")\n",
    "    #Tercera capa\n",
    "    self.outW = tf.Variable(np.random.rand(n_nodes_hl2, n_classes),name=\"outweigths\",dtype=\"float32\")\n",
    "    self.outB = tf.Variable(np.random.rand(n_classes),name=\"outbias\",dtype=\"float32\")\n",
    "\n",
    "    #Estos son los elementos que ajustará el optimizador\n",
    "    self.trainable_variables =[self.h1LW,self.h1LB,self.h2LW,self.h2LB,self.outW,self.outB]          \n",
    "  \n",
    "  def __call__(self,x): \n",
    "      # Para nuestra DNN, la propagación hacia adelante involucra Y = X*W+B\n",
    "        #      Ya = tf.add(tf.matmul(x,self.hnLB), self.hnLB)\n",
    "      # Después le aplicamos la función de activación\n",
    "        #      Yn = tf.nn.relu(Ya)\n",
    "\n",
    "\n",
    "      l1 = tf.add(tf.matmul(x,self.h1LW), self.h1LB)\n",
    "      l1 = tf.nn.relu(l1)\n",
    "\n",
    "      l2 = tf.add(tf.matmul(l1,self.h2LW), self.h2LB)\n",
    "      l2 = tf.nn.relu(l2)\n",
    "\n",
    "      output = tf.matmul(l2,self.outW) + self.outB\n",
    "      return output\n",
    "\n",
    "      #Cada vez que llamemos a la red, se ejecuta la propagación hacia adelante"
   ]
  },
  {
   "cell_type": "code",
   "execution_count": 53,
   "metadata": {
    "colab": {
     "base_uri": "https://localhost:8080/"
    },
    "id": "damb9R737RDY",
    "outputId": "cc771e66-9ee4-4c33-aa01-3a9f8ae94d8e"
   },
   "outputs": [
    {
     "data": {
      "text/plain": [
       "<tf.Tensor: shape=(6, 10), dtype=float32, numpy=\n",
       "array([[756040.44, 662818.1 , 701966.3 , 750872.25, 753924.6 , 680105.94,\n",
       "        754993.1 , 747426.56, 714634.6 , 686472.75],\n",
       "       [552315.9 , 484200.1 , 512762.7 , 548528.9 , 550815.56, 496814.38,\n",
       "        551531.  , 546000.25, 522056.1 , 501469.4 ],\n",
       "       [623158.8 , 546317.8 , 578605.6 , 618896.6 , 621423.  , 560605.56,\n",
       "        622324.4 , 616078.9 , 589000.4 , 565765.1 ],\n",
       "       [914962.8 , 802148.44, 849539.94, 908702.9 , 912398.9 , 823104.06,\n",
       "        913736.1 , 904561.94, 864833.75, 830750.1 ],\n",
       "       [502844.3 , 440858.88, 466897.5 , 499432.8 , 501440.12, 452373.34,\n",
       "        502162.53, 497132.1 , 475311.97, 456599.88],\n",
       "       [791556.56, 693922.44, 734947.06, 786145.6 , 789316.3 , 712089.94,\n",
       "        790470.94, 782539.25, 748179.56, 718719.06]], dtype=float32)>"
      ]
     },
     "execution_count": 53,
     "metadata": {},
     "output_type": "execute_result"
    }
   ],
   "source": [
    "# Creando un objeto DNN_model()\n",
    "DNN = DNN_model()\n",
    "#Mandamos a llamar la propagación hacia adelante del objeto DNN\n",
    "DNN(x_train[24:30])"
   ]
  },
  {
   "cell_type": "markdown",
   "metadata": {
    "id": "2L077Rd6BdWS"
   },
   "source": [
    "Seleccionando un optimizador"
   ]
  },
  {
   "cell_type": "markdown",
   "metadata": {
    "id": "-phnXItccs4V"
   },
   "source": [
    "Antes de que el modelo este listo para entrenar , se necesitan algunas configuraciones más. Éstas son agregadas durante el paso de compilacion del modelo:\n",
    "\n",
    "+ Loss function: Mide qué tan exacto es el modelo. Se busca minimizar su valor para dirigir el modelo en la dirección adecuada.\n",
    "+ Optimizer: Cómo el modelo se actualiza basado en el set de datos que ve y la función de pérdida. Por default el factor de aprendizaje es de 0.001\n",
    "+ Metrics: Métricas de validación, monitorean los pasos de entrenamiento y pruebas. El accuracy (exactitud), arroja la fración de entradas correctamente clasificadas."
   ]
  },
  {
   "cell_type": "code",
   "execution_count": 54,
   "metadata": {
    "id": "BU8l9Vo9Bc77"
   },
   "outputs": [],
   "source": [
    "#Este optimizador viene en Keras\n",
    "#optimizador = tf.keras.optimizers.Adam(learning_rate=0.001 ) \n",
    "\n",
    "#Este optimizador viene de TF1\n",
    "optimizador = tf.compat.v1.train.AdamOptimizer(learning_rate=0.001)\n",
    "\n",
    "#Se eligió el que mejores resultados de exactitud otorgó."
   ]
  },
  {
   "cell_type": "markdown",
   "metadata": {
    "id": "7uN_pT0VB5Q9"
   },
   "source": [
    "Definiendo las métricas"
   ]
  },
  {
   "cell_type": "code",
   "execution_count": 55,
   "metadata": {
    "id": "AUcyagfBB7TW"
   },
   "outputs": [],
   "source": [
    "# Funciones de costo\n",
    "train_loss = tf.keras.metrics.Mean(name='train_loss')\n",
    "test_loss = tf.keras.metrics.Mean(name='test_loss')\n",
    "\n",
    "# Funciones de exactitud\n",
    "train_accuracy = tf.keras.metrics.CategoricalAccuracy(name='train_accuracy')\n",
    "test_accuracy = tf.keras.metrics.CategoricalAccuracy(name='test_accuracy')"
   ]
  },
  {
   "cell_type": "markdown",
   "metadata": {
    "id": "v-MTKT2GCMCW"
   },
   "source": [
    "Cálculo de gradientes y ajuste"
   ]
  },
  {
   "cell_type": "code",
   "execution_count": 56,
   "metadata": {
    "id": "9ZuEGgeACN7b"
   },
   "outputs": [],
   "source": [
    "#Declaramos el paso de entrenamiento\n",
    "def train_step(model,tdata, labels):\n",
    "  #Esta funcion recibe el modelo, los datos de entrenamiento y sus etiquetas\n",
    "  with tf.GradientTape() as tape:\n",
    "    #Cargamos el calculo de gradiente de tensorflow y lo renombramos como tape (la cinta del gradiente)\n",
    "    #Hacemos la propagacion hacia delante de los datos de entrenamiento\n",
    "    predictions = model(tdata)\n",
    "    #Cálculo de una funcion de error \n",
    "    loss = tf.reduce_mean(tf.nn.softmax_cross_entropy_with_logits(labels, predictions))\n",
    "    #Aqui estamos usando la funcion de error y le indicamos\n",
    "    #que se calcula con la diferencia entre la prediccion y la etiqueta\n",
    "\n",
    "  #Se calcula el gradiente de pérdida con respecto a los pesos y bias\n",
    "  gradients = tape.gradient(loss, model.trainable_variables)\n",
    "\n",
    "  # Ordenando en tuplas: (gradiente, variable)\n",
    "  capped_grads_and_vars = [(grad,model.trainable_variables[index]) for index, grad in enumerate(gradients)]\n",
    "  \n",
    "  #Ya con los gradientes y variables ordenados, ejecutamos el optimizador que elegimos\n",
    "  optimizador.apply_gradients(capped_grads_and_vars)\n",
    "\n",
    "  # Desplegamos el error y exactitud\n",
    "  train_loss(loss)\n",
    "  train_accuracy(labels, predictions)"
   ]
  },
  {
   "cell_type": "code",
   "execution_count": 57,
   "metadata": {
    "id": "uGI58uMwEVCC"
   },
   "outputs": [],
   "source": [
    "# Probando la función\n",
    "train_step(DNN,x_train[24:30], y_train_onehot[24:30])"
   ]
  },
  {
   "cell_type": "code",
   "execution_count": 58,
   "metadata": {
    "id": "Tm0TEBCAEYg3"
   },
   "outputs": [],
   "source": [
    "#Esta es la funcion de prueba, para propagar sin modificar los datos\n",
    "def test_step(model,tdata, labels):\n",
    "  predictions = model(tdata)\n",
    "  t_loss =  tf.reduce_mean(tf.nn.softmax_cross_entropy_with_logits(labels, predictions))\n",
    "\n",
    "  test_loss(t_loss)\n",
    "  test_accuracy(labels, predictions)"
   ]
  },
  {
   "cell_type": "code",
   "execution_count": 59,
   "metadata": {
    "id": "D4GxrBaTEgo7"
   },
   "outputs": [],
   "source": [
    "test_step(DNN,x_train[24:30], y_train_onehot[24:30])"
   ]
  },
  {
   "cell_type": "markdown",
   "metadata": {
    "id": "MTD8a2b8hLGi"
   },
   "source": [
    "## Entrenamiento"
   ]
  },
  {
   "cell_type": "markdown",
   "metadata": {
    "id": "JYi6KaEgczwc"
   },
   "source": [
    "Posteriormente se hace el entrenamiento para asociar las imágenes con sus respectivas etiquetas. Entre mayor sea la cantidad de épocas, mayor costo computacional requerirá pero en la mayoría de las veces el modelo se ajustará mejor a las entradas."
   ]
  },
  {
   "cell_type": "code",
   "execution_count": 60,
   "metadata": {
    "id": "tzNcQqV8PJ3s"
   },
   "outputs": [],
   "source": [
    "#En esta funcion hacemos el entrenamiento de la DNN\n",
    "def fitting(model,train_x,train_y,test_x,test_y,EPOCHS,N_batch,batch_size):\n",
    "\n",
    "  #Hacemos el ciclo de épocas\n",
    "  for epoch in range(EPOCHS):\n",
    "    i=0\n",
    "    #Hacemos el ciclo por lote\n",
    "    while i+batch_size < len(train_x) or i+batch_size<batch_size*N_batch:\n",
    "      #Aqui ya no tenemos las funciones para separar los dataset por lotes\n",
    "      #Necesitamos separar los lotes a mano\n",
    "      start = i\n",
    "      end = i+batch_size\n",
    "      #Hacemos las rebanadas del tamaño del lote a usar\n",
    "      batch_x = train_x[start:end]\n",
    "      batch_y = train_y[start:end]\n",
    "      #Ejecutamos el paso de entrenamiento\n",
    "      train_step(model,batch_x,batch_y)\n",
    "      i+=batch_size\n",
    "    #Ejecutamos el paso de prueba\n",
    "    test_step(model,test_x,test_y)\n",
    "\n",
    "    #Con cada época imprimimos en pantalla el resultado      \n",
    "    template = 'Epoch {}, Perdida: {}, Exactitud: {}, Perdida de prueba: {}, Exactitud de prueba: {}'\n",
    "    print(template.format(epoch+1,\n",
    "                         train_loss.result(),\n",
    "                        train_accuracy.result()*100,\n",
    "                        test_loss.result(),\n",
    "                        test_accuracy.result()*100))\n",
    "    \n",
    "    #Al finalizar la epoca, reiniciamos los errores y exactitudes para que no se acumulen con el anterior\n",
    "    train_loss.reset_states()\n",
    "    train_accuracy.reset_states()\n",
    "    test_loss.reset_states()\n",
    "    test_accuracy.reset_states()"
   ]
  },
  {
   "cell_type": "code",
   "execution_count": 63,
   "metadata": {
    "colab": {
     "base_uri": "https://localhost:8080/"
    },
    "id": "khXvat-dPiMK",
    "outputId": "94360b46-91d9-4b59-fa30-b55ec4b7029d"
   },
   "outputs": [
    {
     "name": "stdout",
     "output_type": "stream",
     "text": [
      "Epoch 1, Perdida: 43.077857971191406, Exactitud: 61.351173400878906, Perdida de prueba: 113.33805084228516, Exactitud de prueba: 49.540000915527344\n",
      "Epoch 2, Perdida: 43.66661071777344, Exactitud: 65.27545928955078, Perdida de prueba: 44.75971221923828, Exactitud de prueba: 64.5\n",
      "Epoch 3, Perdida: 52.808956146240234, Exactitud: 66.2420654296875, Perdida de prueba: 39.670936584472656, Exactitud de prueba: 68.11000061035156\n",
      "Epoch 4, Perdida: 49.21403884887695, Exactitud: 67.5575942993164, Perdida de prueba: 41.82698440551758, Exactitud de prueba: 65.68000030517578\n",
      "Epoch 5, Perdida: 41.73030471801758, Exactitud: 71.2637710571289, Perdida de prueba: 43.38935470581055, Exactitud de prueba: 71.33000183105469\n",
      "Epoch 6, Perdida: 41.7012939453125, Exactitud: 71.5575942993164, Perdida de prueba: 31.77854347229004, Exactitud de prueba: 74.62999725341797\n",
      "Epoch 7, Perdida: 44.70228958129883, Exactitud: 71.86644744873047, Perdida de prueba: 40.079898834228516, Exactitud de prueba: 72.3699951171875\n",
      "Epoch 8, Perdida: 38.718223571777344, Exactitud: 73.37895965576172, Perdida de prueba: 27.695199966430664, Exactitud de prueba: 73.63999938964844\n",
      "Epoch 9, Perdida: 43.05447769165039, Exactitud: 73.48915100097656, Perdida de prueba: 42.23455810546875, Exactitud de prueba: 73.72999572753906\n",
      "Epoch 10, Perdida: 38.657501220703125, Exactitud: 74.75625610351562, Perdida de prueba: 20.978118896484375, Exactitud de prueba: 80.08999633789062\n",
      "Epoch 11, Perdida: 37.4707145690918, Exactitud: 74.89482879638672, Perdida de prueba: 38.40822219848633, Exactitud de prueba: 73.83999633789062\n",
      "Epoch 12, Perdida: 37.743717193603516, Exactitud: 75.74290466308594, Perdida de prueba: 53.75979995727539, Exactitud de prueba: 73.97999572753906\n",
      "Epoch 13, Perdida: 35.63901138305664, Exactitud: 75.92487335205078, Perdida de prueba: 36.91831588745117, Exactitud de prueba: 73.87999725341797\n",
      "Epoch 14, Perdida: 31.986976623535156, Exactitud: 77.1452407836914, Perdida de prueba: 35.7526969909668, Exactitud de prueba: 74.76000213623047\n",
      "Epoch 15, Perdida: 31.93520736694336, Exactitud: 76.92654418945312, Perdida de prueba: 37.12417984008789, Exactitud de prueba: 73.13999938964844\n"
     ]
    }
   ],
   "source": [
    "fitting(DNN,x_train,y_train_onehot,x_test,y_test_onehot,15,600,100)"
   ]
  }
 ],
 "metadata": {
  "colab": {
   "collapsed_sections": [],
   "provenance": []
  },
  "kernelspec": {
   "display_name": "Python 3 (ipykernel)",
   "language": "python",
   "name": "python3"
  },
  "language_info": {
   "codemirror_mode": {
    "name": "ipython",
    "version": 3
   },
   "file_extension": ".py",
   "mimetype": "text/x-python",
   "name": "python",
   "nbconvert_exporter": "python",
   "pygments_lexer": "ipython3",
   "version": "3.9.12"
  }
 },
 "nbformat": 4,
 "nbformat_minor": 1
}
